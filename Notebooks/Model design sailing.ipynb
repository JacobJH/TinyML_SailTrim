{
 "cells": [
  {
   "cell_type": "code",
   "execution_count": 11,
   "metadata": {},
   "outputs": [
    {
     "name": "stdout",
     "output_type": "stream",
     "text": [
      "Requirement already satisfied: setuptools in c:\\users\\migselv\\appdata\\local\\programs\\python\\python313\\lib\\site-packages (78.1.0)\n"
     ]
    },
    {
     "name": "stderr",
     "output_type": "stream",
     "text": [
      "\n",
      "[notice] A new release of pip is available: 25.0.1 -> 25.1.1\n",
      "[notice] To update, run: python.exe -m pip install --upgrade pip\n"
     ]
    },
    {
     "name": "stdout",
     "output_type": "stream",
     "text": [
      "Requirement already satisfied: scikit-learn in c:\\users\\migselv\\appdata\\local\\programs\\python\\python313\\lib\\site-packages (1.6.1)\n",
      "Requirement already satisfied: numpy>=1.19.5 in c:\\users\\migselv\\appdata\\local\\programs\\python\\python313\\lib\\site-packages (from scikit-learn) (2.2.3)\n",
      "Requirement already satisfied: scipy>=1.6.0 in c:\\users\\migselv\\appdata\\local\\programs\\python\\python313\\lib\\site-packages (from scikit-learn) (1.15.2)\n",
      "Requirement already satisfied: joblib>=1.2.0 in c:\\users\\migselv\\appdata\\local\\programs\\python\\python313\\lib\\site-packages (from scikit-learn) (1.4.2)\n",
      "Requirement already satisfied: threadpoolctl>=3.1.0 in c:\\users\\migselv\\appdata\\local\\programs\\python\\python313\\lib\\site-packages (from scikit-learn) (3.5.0)\n"
     ]
    },
    {
     "name": "stderr",
     "output_type": "stream",
     "text": [
      "\n",
      "[notice] A new release of pip is available: 25.0.1 -> 25.1.1\n",
      "[notice] To update, run: python.exe -m pip install --upgrade pip\n"
     ]
    },
    {
     "name": "stdout",
     "output_type": "stream",
     "text": [
      "Requirement already satisfied: emlearn in c:\\users\\migselv\\appdata\\roaming\\python\\python313\\site-packages (0.21.0)\n",
      "Requirement already satisfied: pybind11>=2.2 in c:\\users\\migselv\\appdata\\roaming\\python\\python313\\site-packages (from emlearn) (2.13.6)\n",
      "Requirement already satisfied: numpy>=1.14.0 in c:\\users\\migselv\\appdata\\local\\programs\\python\\python313\\lib\\site-packages (from emlearn) (2.2.3)\n",
      "Requirement already satisfied: jinja2>=2.0.0 in c:\\users\\migselv\\appdata\\roaming\\python\\python313\\site-packages (from emlearn) (3.1.6)\n",
      "Requirement already satisfied: MarkupSafe>=2.0 in c:\\users\\migselv\\appdata\\roaming\\python\\python313\\site-packages (from jinja2>=2.0.0->emlearn) (3.0.2)\n"
     ]
    },
    {
     "name": "stderr",
     "output_type": "stream",
     "text": [
      "\n",
      "[notice] A new release of pip is available: 25.0.1 -> 25.1.1\n",
      "[notice] To update, run: python.exe -m pip install --upgrade pip\n"
     ]
    }
   ],
   "source": [
    "!pip install setuptools\n",
    "#install scikit-learn\n",
    "!pip install scikit-learn\n",
    "#install EMLearn\n",
    "!pip install emlearn"
   ]
  },
  {
   "cell_type": "code",
   "execution_count": 12,
   "metadata": {},
   "outputs": [
    {
     "name": "stdout",
     "output_type": "stream",
     "text": [
      "Train data shape: (147678, 9)\n",
      "Test data shape: (73845, 9)\n"
     ]
    }
   ],
   "source": [
    "import pandas as pd\n",
    "import numpy as np\n",
    "import glob\n",
    "\n",
    "# Define the path to the CSV files\n",
    "path = 'expanded_data/'  # Update this path to your actual data directory\n",
    "activities = ['ret', 'lav', 'hoj']\n",
    "labels = ['ret', 'lav', 'hoj']\n",
    "dfs_train = []\n",
    "dfs_test = []\n",
    "\n",
    "# Read the CSV files and split each into train and test sets\n",
    "for activity in activities:\n",
    "    files = glob.glob(path + f\"*{activity}*.csv\")  # Match the naming pattern\n",
    "    for filename in files:\n",
    "        df = pd.read_csv(filename)\n",
    "        df['activity'] = activity  # Assign the activity based on the loop variable\n",
    "        \n",
    "        # Split the data: first two-thirds for training, last one-third for testing\n",
    "        split_index = int(len(df) * 2 / 3)\n",
    "        dfs_train.append(df[:split_index])\n",
    "        dfs_test.append(df[split_index:])\n",
    "\n",
    "# Combine all training and testing data\n",
    "df_train = pd.concat(dfs_train, ignore_index=True)\n",
    "df_test = pd.concat(dfs_test, ignore_index=True)\n",
    "\n",
    "# Verify the splits\n",
    "print(\"Train data shape:\", df_train.shape)\n",
    "print(\"Test data shape:\", df_test.shape)"
   ]
  },
  {
   "cell_type": "code",
   "execution_count": 13,
   "metadata": {},
   "outputs": [],
   "source": [
    "x_list = []\n",
    "y_list = []\n",
    "z_list = []\n",
    "pressure_list = []\n",
    "gyroX_list = []\n",
    "gyroY_list = []\n",
    "gyroZ_list = []\n",
    "train_labels = []\n",
    "\n",
    "window_size = 900\n",
    "step_size = 450\n",
    "\n",
    "# creating overlaping windows of size window-size 900 and step size 450\n",
    "for i in range(0, df_train.shape[0] - window_size, step_size):\n",
    "    xs = df_train['accX'].values[i: i + window_size]\n",
    "    ys = df_train['accY'].values[i: i + window_size]\n",
    "    zs = df_train['accZ'].values[i: i + window_size]\n",
    "    pressures = df_train['pressure'].values[i: i + window_size]\n",
    "    gyroXs = df_train['gyroX'].values[i: i + window_size]\n",
    "    gyroYs = df_train['gyroY'].values[i: i + window_size]\n",
    "    gyroZs = df_train['gyroZ'].values[i: i + window_size]\n",
    "    label = df_train['activity'][i: i + window_size].mode()[0]\n",
    "\n",
    "    x_list.append(xs)\n",
    "    y_list.append(ys)\n",
    "    z_list.append(zs)\n",
    "    pressure_list.append(pressures)\n",
    "    gyroX_list.append(gyroXs)\n",
    "    gyroY_list.append(gyroYs)\n",
    "    gyroZ_list.append(gyroZs)\n",
    "    train_labels.append(label)\n",
    "\n",
    "# Statistical Features on raw x, y and z in time domain\n",
    "X_train = pd.DataFrame()\n",
    "\n",
    "# mean\n",
    "X_train['y_mean'] = pd.Series(y_list).apply(lambda x: x.mean())\n",
    "X_train['z_mean'] = pd.Series(z_list).apply(lambda x: x.mean())\n",
    "X_train['pressure_mean'] = pd.Series(pressure_list).apply(lambda x: x.mean())\n",
    "X_train['gyroY_mean'] = pd.Series(gyroY_list).apply(lambda x: x.mean())\n",
    "X_train['gyroZ_mean'] = pd.Series(gyroZ_list).apply(lambda x: x.mean())\n",
    "\n",
    "# min\n",
    "X_train['pressure_min'] = pd.Series(pressure_list).apply(lambda x: x.min())\n",
    "X_train['y_min'] = pd.Series(y_list).apply(lambda x: x.min())\n",
    "\n",
    "# max\n",
    "X_train['y_max'] = pd.Series(y_list).apply(lambda x: x.max())\n",
    "X_train['pressure_max'] = pd.Series(pressure_list).apply(lambda x: x.max())\n",
    "\n",
    "# median\n",
    "X_train['pressure_median'] = pd.Series(pressure_list).apply(lambda x: np.median(x))\n",
    "\n",
    "# energy\n",
    "X_train['y_energy'] = pd.Series(y_list).apply(lambda x: np.sum(x**2)/window_size)\n",
    "X_train['pressure_energy'] = pd.Series(pressure_list).apply(lambda x: np.sum(x**2)/window_size)\n",
    "\n",
    "# Custom ratios\n",
    "X_train['acc_gyro_ratio_y'] = X_train['y_mean'] / (X_train['gyroY_mean'] + 1e-6)\n",
    "X_train['acc_gyro_ratio_z'] = X_train['z_mean'] / (X_train['gyroZ_mean'] + 1e-6)"
   ]
  },
  {
   "cell_type": "code",
   "execution_count": 14,
   "metadata": {},
   "outputs": [],
   "source": [
    "x_list = []\n",
    "y_list = []\n",
    "z_list = []\n",
    "pressure_list = []\n",
    "gyroX_list = []\n",
    "gyroY_list = []\n",
    "gyroZ_list = []\n",
    "test_labels = []\n",
    "\n",
    "window_size = 900\n",
    "step_size = 450\n",
    "\n",
    "# creating overlaping windows of size window-size 900 and step size 450\n",
    "for i in range(0, df_test.shape[0] - window_size, step_size):\n",
    "    xs = df_test['accX'].values[i: i + window_size]\n",
    "    ys = df_test['accY'].values[i: i + window_size]\n",
    "    zs = df_test['accZ'].values[i: i + window_size]\n",
    "    pressures = df_test['pressure'].values[i: i + window_size]\n",
    "    gyroXs = df_test['gyroX'].values[i: i + window_size]\n",
    "    gyroYs = df_test['gyroY'].values[i: i + window_size]\n",
    "    gyroZs = df_test['gyroZ'].values[i: i + window_size]\n",
    "    label = df_test['activity'][i: i + window_size].mode()[0]\n",
    "\n",
    "    x_list.append(xs)\n",
    "    y_list.append(ys)\n",
    "    z_list.append(zs)\n",
    "    pressure_list.append(pressures)\n",
    "    gyroX_list.append(gyroXs)\n",
    "    gyroY_list.append(gyroYs)\n",
    "    gyroZ_list.append(gyroZs)\n",
    "    test_labels.append(label)\n",
    "\n",
    "# Statistical Features on raw x, y and z in time domain\n",
    "X_test = pd.DataFrame()\n",
    "\n",
    "# mean\n",
    "X_test['y_mean'] = pd.Series(y_list).apply(lambda x: x.mean())\n",
    "X_test['z_mean'] = pd.Series(z_list).apply(lambda x: x.mean())\n",
    "X_test['pressure_mean'] = pd.Series(pressure_list).apply(lambda x: x.mean())\n",
    "X_test['gyroY_mean'] = pd.Series(gyroY_list).apply(lambda x: x.mean())\n",
    "X_test['gyroZ_mean'] = pd.Series(gyroZ_list).apply(lambda x: x.mean())\n",
    "\n",
    "# min\n",
    "X_test['pressure_min'] = pd.Series(pressure_list).apply(lambda x: x.min())\n",
    "X_test['y_min'] = pd.Series(y_list).apply(lambda x: x.min())\n",
    "\n",
    "# max\n",
    "X_test['y_max'] = pd.Series(y_list).apply(lambda x: x.max())\n",
    "X_test['pressure_max'] = pd.Series(pressure_list).apply(lambda x: x.max())\n",
    "\n",
    "# median\n",
    "X_test['pressure_median'] = pd.Series(pressure_list).apply(lambda x: np.median(x))\n",
    "\n",
    "# energy\n",
    "X_test['y_energy'] = pd.Series(y_list).apply(lambda x: np.sum(x**2)/window_size)\n",
    "X_test['pressure_energy'] = pd.Series(pressure_list).apply(lambda x: np.sum(x**2)/window_size)\n",
    "\n",
    "# Custom ratios\n",
    "X_test['acc_gyro_ratio_y'] = X_test['y_mean'] / (X_test['gyroY_mean'] + 1e-6)\n",
    "X_test['acc_gyro_ratio_z'] = X_test['z_mean'] / (X_test['gyroZ_mean'] + 1e-6)"
   ]
  },
  {
   "cell_type": "code",
   "execution_count": 15,
   "metadata": {},
   "outputs": [
    {
     "name": "stdout",
     "output_type": "stream",
     "text": [
      "Train data shape: (327, 14)\n",
      "Test data shape: (163, 14)\n",
      "NaN in X_train before imputation: 0\n",
      "NaN in X_test before imputation: 0\n",
      "NaN in X_train after imputation: 0\n",
      "NaN in X_test after imputation: 0\n"
     ]
    }
   ],
   "source": [
    "# Verify the splits\n",
    "print(\"Train data shape:\", X_train.shape)\n",
    "print(\"Test data shape:\", X_test.shape)\n",
    "\n",
    "y_train = np.array(train_labels)\n",
    "y_test = np.array(test_labels)\n",
    "\n",
    "from sklearn.impute import SimpleImputer\n",
    "\n",
    "# Verify that there are no NaN values\n",
    "print(\"NaN in X_train before imputation:\", X_train.isnull().sum().sum())\n",
    "print(\"NaN in X_test before imputation:\", X_test.isnull().sum().sum())\n",
    "\n",
    "# Replace missing values with the mean\n",
    "imputer = SimpleImputer(strategy='mean')\n",
    "X_train = pd.DataFrame(imputer.fit_transform(X_train), columns=X_train.columns)\n",
    "X_test = pd.DataFrame(imputer.transform(X_test), columns=X_test.columns)\n",
    "\n",
    "# Verify that there are no NaN values\n",
    "print(\"NaN in X_train after imputation:\", X_train.isnull().sum().sum())\n",
    "print(\"NaN in X_test after imputation:\", X_test.isnull().sum().sum())\n",
    "\n",
    "from sklearn.preprocessing import StandardScaler\n",
    "\n",
    "# Initialize the scaler\n",
    "scaler = StandardScaler()\n",
    "\n",
    "# Fit the scaler on the training data and transform both training and test data\n",
    "X_train_scaled = scaler.fit_transform(X_train)\n",
    "X_test_scaled = scaler.transform(X_test)\n",
    "\n",
    "# Convert back to DataFrame if needed\n",
    "X_train = pd.DataFrame(X_train_scaled, columns=X_train.columns)\n",
    "X_test = pd.DataFrame(X_test_scaled, columns=X_test.columns)"
   ]
  },
  {
   "cell_type": "code",
   "execution_count": 17,
   "metadata": {},
   "outputs": [
    {
     "name": "stdout",
     "output_type": "stream",
     "text": [
      "Accuracy: 0.8957055214723927\n",
      "\n",
      " -------------Classification Report-------------\n",
      "\n",
      "              precision    recall  f1-score   support\n",
      "\n",
      "         hoj       1.00      1.00      1.00        52\n",
      "         lav       0.76      1.00      0.87        55\n",
      "         ret       1.00      0.70      0.82        56\n",
      "\n",
      "    accuracy                           0.90       163\n",
      "   macro avg       0.92      0.90      0.90       163\n",
      "weighted avg       0.92      0.90      0.89       163\n",
      "\n"
     ]
    },
    {
     "data": {
      "image/png": "[encoded data removed]",
      "text/plain": [
       "<Figure size 640x480 with 2 Axes>"
      ]
     },
     "metadata": {},
     "output_type": "display_data"
    }
   ],
   "source": [
    "#lets try random forrest\n",
    "\n",
    "from sklearn.ensemble import RandomForestClassifier\n",
    "from sklearn.metrics import accuracy_score, classification_report\n",
    "import seaborn as sns\n",
    "import matplotlib.pyplot as plt\n",
    "rf = RandomForestClassifier(max_depth=2, max_features='sqrt', n_estimators=13, random_state = 21)\n",
    "rf.fit(X_train, y_train)\n",
    "y_pred = rf.predict(X_test)\n",
    "print(\"Accuracy:\", accuracy_score(y_test, y_pred))\n",
    "print(\"\\n -------------Classification Report-------------\\n\")\n",
    "print(classification_report(y_test, y_pred))\n",
    "\n",
    "from sklearn.metrics import confusion_matrix\n",
    "\n",
    "# Confusion matrix\n",
    "conf_matrix = confusion_matrix(y_test, y_pred)\n",
    "accuracy = accuracy_score(y_test, y_pred)  # Calculate accuracy\n",
    "sns.heatmap(conf_matrix, xticklabels=labels, yticklabels=labels, annot=True, linewidths=0.1, fmt=\"d\", cmap='YlGnBu')\n",
    "plt.title(f\"Random Forest Classifier (Accuracy: {accuracy:.3f})\", fontsize=15)  # Add accuracy to the title\n",
    "plt.ylabel('True Label')\n",
    "plt.xlabel('Predicted Label')\n",
    "plt.show()"
   ]
  },
  {
   "cell_type": "code",
   "execution_count": 18,
   "metadata": {},
   "outputs": [
    {
     "name": "stdout",
     "output_type": "stream",
     "text": [
      "Wrote model to random_forest_model.h\n"
     ]
    }
   ],
   "source": [
    "import emlearn\n",
    "\n",
    "# Convert model using emlearn\n",
    "path = 'random_forest_model.h'\n",
    "cmodel = emlearn.convert(rf, method='inline')\n",
    "cmodel.save(file=path, name='random_forest_model')\n",
    "print('Wrote model to', path)"
   ]
  },
  {
   "cell_type": "code",
   "execution_count": 25,
   "metadata": {},
   "outputs": [
    {
     "data": {
      "text/plain": [
       "'\\n\\n\\n    // !!! This file is generated using emlearn !!!\\n\\n    #include <eml_trees.h>\\n    \\n\\nstatic const EmlTreesNode random_forest_model_int32_nodes[31] = {\\n  { 12, 0, 1, 2 },\\n  { 1, 0, -1, -2 },\\n  { 10, 0, -3, -2 },\\n  { 10, 0, -3, 1 },\\n  { 2, 0, -2, -1 },\\n  { 2, 0, 1, -1 },\\n  { 10, 0, -3, -2 },\\n  { 9, 0, 1, -1 },\\n  { 10, 0, -3, -2 },\\n  { 11, 0, 1, -1 },\\n  { 9, 0, -3, -2 },\\n  { 10, 0, -3, 1 },\\n  { 2, 0, -2, -1 },\\n  { 9, 0, 1, -1 },\\n  { 12, 0, -2, -3 },\\n  { 7, 0, 1, 2 },\\n  { 2, 0, -2, -1 },\\n  { 0, 1, -3, -2 },\\n  { 5, 0, 1, 2 },\\n  { 7, 0, -2, -3 },\\n  { 2, 0, -2, -1 },\\n  { 12, 0, 1, 2 },\\n  { 11, 0, -2, -1 },\\n  { 7, 1, -3, -2 },\\n  { 9, 0, 1, -1 },\\n  { 10, 0, -3, -2 },\\n  { 2, 0, 1, -1 },\\n  { 7, 0, -2, -3 },\\n  { 7, 0, 1, 2 },\\n  { 9, 0, -2, -1 },\\n  { 0, 1, -3, -2 } \\n};\\n\\nstatic const int32_t random_forest_model_int32_tree_roots[13] = { 0, 3, 5, 7, 9, 11, 13, 15, 18, 21, 24, 26, 28 };\\n\\nstatic const uint8_t random_forest_model_int32_leaves[3] = { 2, 1, 0 };\\n\\nEmlTrees random_forest_model_int32 = {\\n        31,\\n        (EmlTreesNode *)(random_forest_model_int32_nodes),\\t  \\n        13,\\n        (int32_t *)(random_forest_model_int32_tree_roots),\\n        3,\\n        (uint8_t *)(random_forest_model_int32_leaves),\\n        0,\\n        14,\\n        3,\\n    };\\n\\nstatic inline int32_t random_forest_model_int32_tree_0(const int32 *features, int32_t features_length) {\\n          if (features[12] < 0) {\\n              if (features[1] < 0) {\\n                  return 2;\\n              } else {\\n                  return 1;\\n              }\\n          } else {\\n              if (features[10] < 0) {\\n                  return 0;\\n              } else {\\n                  return 1;\\n              }\\n          }\\n        }\\n        \\n\\nstatic inline int32_t random_forest_model_int32_tree_1(const int32 *features, int32_t features_length) {\\n          if (features[10] < 0) {\\n              return 0;\\n          } else {\\n              if (features[2] < 0) {\\n                  return 1;\\n              } else {\\n                  return 2;\\n              }\\n          }\\n        }\\n        \\n\\nstatic inline int32_t random_forest_model_int32_tree_2(const int32 *features, int32_t features_length) {\\n          if (features[2] < 0) {\\n              if (features[10] < 0) {\\n                  return 0;\\n              } else {\\n                  return 1;\\n              }\\n          } else {\\n              return 2;\\n          }\\n        }\\n        \\n\\nstatic inline int32_t random_forest_model_int32_tree_3(const int32 *features, int32_t features_length) {\\n          if (features[9] < 0) {\\n              if (features[10] < 0) {\\n                  return 0;\\n              } else {\\n                  return 1;\\n              }\\n          } else {\\n              return 2;\\n          }\\n        }\\n        \\n\\nstatic inline int32_t random_forest_model_int32_tree_4(const int32 *features, int32_t features_length) {\\n          if (features[11] < 0) {\\n              if (features[9] < 0) {\\n                  return 0;\\n              } else {\\n                  return 1;\\n              }\\n          } else {\\n              return 2;\\n          }\\n        }\\n        \\n\\nstatic inline int32_t random_forest_model_int32_tree_5(const int32 *features, int32_t features_length) {\\n          if (features[10] < 0) {\\n              return 0;\\n          } else {\\n              if (features[2] < 0) {\\n                  return 1;\\n              } else {\\n                  return 2;\\n              }\\n          }\\n        }\\n        \\n\\nstatic inline int32_t random_forest_model_int32_tree_6(const int32 *features, int32_t features_length) {\\n          if (features[9] < 0) {\\n              if (features[12] < 0) {\\n                  return 1;\\n              } else {\\n                  return 0;\\n              }\\n          } else {\\n              return 2;\\n          }\\n        }\\n        \\n\\nstatic inline int32_t random_forest_model_int32_tree_7(const int32 *features, int32_t features_length) {\\n          if (features[7] < 0) {\\n              if (features[2] < 0) {\\n                  return 1;\\n              } else {\\n                  return 2;\\n              }\\n          } else {\\n              if (features[0] < 1) {\\n                  return 0;\\n              } else {\\n                  return 1;\\n              }\\n          }\\n        }\\n        \\n\\nstatic inline int32_t random_forest_model_int32_tree_8(const int32 *features, int32_t features_length) {\\n          if (features[5] < 0) {\\n              if (features[7] < 0) {\\n                  return 1;\\n              } else {\\n                  return 0;\\n              }\\n          } else {\\n              if (features[2] < 0) {\\n                  return 1;\\n              } else {\\n                  return 2;\\n              }\\n          }\\n        }\\n        \\n\\nstatic inline int32_t random_forest_model_int32_tree_9(const int32 *features, int32_t features_length) {\\n          if (features[12] < 0) {\\n              if (features[11] < 0) {\\n                  return 1;\\n              } else {\\n                  return 2;\\n              }\\n          } else {\\n              if (features[7] < 1) {\\n                  return 0;\\n              } else {\\n                  return 1;\\n              }\\n          }\\n        }\\n        \\n\\nstatic inline int32_t random_forest_model_int32_tree_10(const int32 *features, int32_t features_length) {\\n          if (features[9] < 0) {\\n              if (features[10] < 0) {\\n                  return 0;\\n              } else {\\n                  return 1;\\n              }\\n          } else {\\n              return 2;\\n          }\\n        }\\n        \\n\\nstatic inline int32_t random_forest_model_int32_tree_11(const int32 *features, int32_t features_length) {\\n          if (features[2] < 0) {\\n              if (features[7] < 0) {\\n                  return 1;\\n              } else {\\n                  return 0;\\n              }\\n          } else {\\n              return 2;\\n          }\\n        }\\n        \\n\\nstatic inline int32_t random_forest_model_int32_tree_12(const int32 *features, int32_t features_length) {\\n          if (features[7] < 0) {\\n              if (features[9] < 0) {\\n                  return 1;\\n              } else {\\n                  return 2;\\n              }\\n          } else {\\n              if (features[0] < 1) {\\n                  return 0;\\n              } else {\\n                  return 1;\\n              }\\n          }\\n        }\\n        \\n\\nint32_t random_forest_model_int32_predict(const int32 *features, int32_t features_length) {\\n\\n        int32_t votes[3] = {0,};\\n        int32_t _class = -1;\\n\\n        _class = random_forest_model_int32_tree_0(features, features_length); votes[_class] += 1;\\n    _class = random_forest_model_int32_tree_1(features, features_length); votes[_class] += 1;\\n    _class = random_forest_model_int32_tree_2(features, features_length); votes[_class] += 1;\\n    _class = random_forest_model_int32_tree_3(features, features_length); votes[_class] += 1;\\n    _class = random_forest_model_int32_tree_4(features, features_length); votes[_class] += 1;\\n    _class = random_forest_model_int32_tree_5(features, features_length); votes[_class] += 1;\\n    _class = random_forest_model_int32_tree_6(features, features_length); votes[_class] += 1;\\n    _class = random_forest_model_int32_tree_7(features, features_length); votes[_class] += 1;\\n    _class = random_forest_model_int32_tree_8(features, features_length); votes[_class] += 1;\\n    _class = random_forest_model_int32_tree_9(features, features_length); votes[_class] += 1;\\n    _class = random_forest_model_int32_tree_10(features, features_length); votes[_class] += 1;\\n    _class = random_forest_model_int32_tree_11(features, features_length); votes[_class] += 1;\\n    _class = random_forest_model_int32_tree_12(features, features_length); votes[_class] += 1;\\n    \\n        int32_t most_voted_class = -1;\\n        int32_t most_voted_votes = 0;\\n        for (int32_t i=0; i<3; i++) {\\n\\n            if (votes[i] > most_voted_votes) {\\n                most_voted_class = i;\\n                most_voted_votes = votes[i];\\n            }\\n        }\\n        return most_voted_class;\\n    }\\n    '"
      ]
     },
     "execution_count": 25,
     "metadata": {},
     "output_type": "execute_result"
    }
   ],
   "source": [
    "rf_float = emlearn.convert(rf, dtype='float', method='inline')\n",
    "rf_float.save(file='random_forest_model_float.h', name='random_forest_model_float')\n",
    "\n",
    "rf_int = emlearn.convert(rf, dtype='int', method='inline')\n",
    "rf_int.save(file='random_forest_model_int.h', name='random_forest_model_int')\n",
    "\n",
    "rf_int8 = emlearn.convert(rf, dtype='int8', method='inline')\n",
    "rf_int8.save(file='random_forest_model_int8.h', name='random_forest_model_int8')\n",
    "\n",
    "rf_int16 = emlearn.convert(rf, dtype='int16', method='inline')\n",
    "rf_int16.save(file='random_forest_model_int16.h', name='random_forest_model_int16')\n",
    "\n",
    "rf_int32 = emlearn.convert(rf, dtype='int32', method='inline')\n",
    "rf_int32.save(file='random_forest_model_int32.h', name='random_forest_model_int32')"
   ]
  },
  {
   "cell_type": "code",
   "execution_count": 27,
   "metadata": {},
   "outputs": [
    {
     "name": "stdout",
     "output_type": "stream",
     "text": [
      "random_forest_model_float.h: 8.59 KB\n",
      "random_forest_model_int.h: 7.98 KB\n",
      "random_forest_model_int8.h: 8.03 KB\n",
      "random_forest_model_int16.h: 8.08 KB\n",
      "random_forest_model_int32.h: 8.08 KB\n"
     ]
    }
   ],
   "source": [
    "import os\n",
    "\n",
    "files = [\n",
    "    'random_forest_model_float.h',\n",
    "    'random_forest_model_int.h',\n",
    "    'random_forest_model_int8.h',\n",
    "    'random_forest_model_int16.h',\n",
    "    'random_forest_model_int32.h'\n",
    "]\n",
    "\n",
    "for f in files:\n",
    "    if os.path.exists(f):\n",
    "        size = os.path.getsize(f)\n",
    "        print(f\"{f}: {size/1024:.2f} KB\")\n",
    "    else:\n",
    "        print(f\"{f}: not found\")"
   ]
  },
  {
   "cell_type": "code",
   "execution_count": 28,
   "metadata": {},
   "outputs": [
    {
     "data": {
      "text/html": [
       "<div>\n",
       "<style scoped>\n",
       "    .dataframe tbody tr th:only-of-type {\n",
       "        vertical-align: middle;\n",
       "    }\n",
       "\n",
       "    .dataframe tbody tr th {\n",
       "        vertical-align: top;\n",
       "    }\n",
       "\n",
       "    .dataframe thead th {\n",
       "        text-align: right;\n",
       "    }\n",
       "</style>\n",
       "<table border=\"1\" class=\"dataframe\">\n",
       "  <thead>\n",
       "    <tr style=\"text-align: right;\">\n",
       "      <th></th>\n",
       "      <th>dtype</th>\n",
       "      <th>size_kb</th>\n",
       "    </tr>\n",
       "  </thead>\n",
       "  <tbody>\n",
       "    <tr>\n",
       "      <th>0</th>\n",
       "      <td>float</td>\n",
       "      <td>8.585938</td>\n",
       "    </tr>\n",
       "    <tr>\n",
       "      <th>1</th>\n",
       "      <td>int</td>\n",
       "      <td>7.984375</td>\n",
       "    </tr>\n",
       "    <tr>\n",
       "      <th>2</th>\n",
       "      <td>int8</td>\n",
       "      <td>8.031250</td>\n",
       "    </tr>\n",
       "    <tr>\n",
       "      <th>3</th>\n",
       "      <td>int16</td>\n",
       "      <td>8.078125</td>\n",
       "    </tr>\n",
       "    <tr>\n",
       "      <th>4</th>\n",
       "      <td>int32</td>\n",
       "      <td>8.078125</td>\n",
       "    </tr>\n",
       "  </tbody>\n",
       "</table>\n",
       "</div>"
      ],
      "text/plain": [
       "   dtype   size_kb\n",
       "0  float  8.585938\n",
       "1    int  7.984375\n",
       "2   int8  8.031250\n",
       "3  int16  8.078125\n",
       "4  int32  8.078125"
      ]
     },
     "metadata": {},
     "output_type": "display_data"
    }
   ],
   "source": [
    "import pandas as pd\n",
    "\n",
    "sizes = []\n",
    "for f in files:\n",
    "    if os.path.exists(f):\n",
    "        size = os.path.getsize(f)\n",
    "        sizes.append({'dtype': f.split('_')[-1].replace('.h',''), 'size_kb': size/1024})\n",
    "    else:\n",
    "        sizes.append({'dtype': f.split('_')[-1].replace('.h',''), 'size_kb': None})\n",
    "\n",
    "df_sizes = pd.DataFrame(sizes)\n",
    "display(df_sizes)"
   ]
  }
 ],
 "metadata": {
  "kernelspec": {
   "display_name": "Python 3",
   "language": "python",
   "name": "python3"
  },
  "language_info": {
   "codemirror_mode": {
    "name": "ipython",
    "version": 3
   },
   "file_extension": ".py",
   "mimetype": "text/x-python",
   "name": "python",
   "nbconvert_exporter": "python",
   "pygments_lexer": "ipython3",
   "version": "3.13.2"
  }
 },
 "nbformat": 4,
 "nbformat_minor": 2
}
