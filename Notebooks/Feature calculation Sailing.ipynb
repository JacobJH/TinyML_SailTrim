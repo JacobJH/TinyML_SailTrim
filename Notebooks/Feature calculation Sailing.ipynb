{
 "cells": [
  {
   "cell_type": "markdown",
   "id": "a8b83009",
   "metadata": {},
   "source": [
    "# mean\n",
    "X_train['y_mean'] = pd.Series(y_list).apply(lambda x: x.mean())\n",
    "X_train['z_mean'] = pd.Series(z_list).apply(lambda x: x.mean())\n",
    "X_train['pressure_mean'] = pd.Series(pressure_list).apply(lambda x: x.mean())\n",
    "X_train['gyroY_mean'] = pd.Series(gyroY_list).apply(lambda x: x.mean())\n",
    "X_train['gyroZ_mean'] = pd.Series(gyroZ_list).apply(lambda x: x.mean())\n",
    "\n",
    "\n",
    "# min\n",
    "X_train['pressure_min'] = pd.Series(pressure_list).apply(lambda x: x.min())\n",
    "X_train['y_min'] = pd.Series(y_list).apply(lambda x: x.min())\n",
    "\n",
    "\n",
    "# max\n",
    "X_train['y_max'] = pd.Series(y_list).apply(lambda x: x.max())\n",
    "X_train['pressure_max'] = pd.Series(pressure_list).apply(lambda x: x.max())\n",
    "\n",
    "\n",
    "# median\n",
    "X_train['pressure_median'] = pd.Series(pressure_list).apply(lambda x: np.median(x))\n",
    "\n",
    "\n",
    "# energy\n",
    "X_train['y_energy'] = pd.Series(y_list).apply(lambda x: np.sum(x**2)/window_size)\n",
    "X_train['pressure_energy'] = pd.Series(pressure_list).apply(lambda x: np.sum(x**2)/window_size)\n",
    "\n",
    "\n",
    "# Custom ratios\n",
    "X_train['acc_gyro_ratio_y'] = X_train['y_mean'] / (X_train['gyroY_mean'] + 1e-6)\n",
    "X_train['acc_gyro_ratio_z'] = X_train['z_mean'] / (X_train['gyroZ_mean'] + 1e-6)"
   ]
  },
  {
   "cell_type": "code",
   "execution_count": 3,
   "id": "0f7b2435",
   "metadata": {},
   "outputs": [
    {
     "name": "stdout",
     "output_type": "stream",
     "text": [
      "accY_mean: -6080.8873\n",
      "pressure_mean: 2057.727\n",
      "gyroY_mean: 25.6613\n",
      "accY_min: -11718\n",
      "pressure_min: 2031\n",
      "accY_median: -6250.0\n",
      "pressure_median: 2058.0\n",
      "pressure_peak_count: 0\n",
      "y_energy: 39890798.9203\n",
      "pressure_energy: 4234269.8382\n",
      "sma: 107910.9796\n",
      "acc_gyro_ratio_y: -236.96723470751678\n"
     ]
    }
   ],
   "source": [
    "import pandas as pd\n",
    "\n",
    "# Read the CSV file and limit to 10000 samples\n",
    "file_path = 'expanded_data/bagbord.ret.001.csv'  # Replace with your CSV file path\n",
    "data = pd.read_csv(file_path, nrows=10000)\n",
    "\n",
    "# Calculate features for accY_mean, pressure_mean, gyroY_mean, accY_min, pressure_min, \n",
    "# accY_median, pressure_median, pressure_peak_count, y_energy, pressure_energy,\n",
    "# sma and acc_gyro_ratio_y\n",
    "features = {}\n",
    "features['accY_mean'] = data['accY'].mean()\n",
    "features['pressure_mean'] = data['pressure'].mean()\n",
    "features['gyroY_mean'] = data['gyroY'].mean()\n",
    "features['accY_min'] = data['accY'].min()\n",
    "features['pressure_min'] = data['pressure'].min()\n",
    "features['accY_median'] = data['accY'].median()\n",
    "features['pressure_median'] = data['pressure'].median()\n",
    "features['pressure_peak_count'] = ((data['pressure'] > 0.5) & (data['pressure'].shift(1) <= 0.5)).sum()\n",
    "features['y_energy'] = ((data['accY'] ** 2).sum()) / len(data)\n",
    "features['pressure_energy'] = ((data['pressure'] ** 2).sum()) / len(data)\n",
    "features['sma'] = (data[['accX', 'accY', 'accZ']].abs().sum(axis=1)).mean()\n",
    "features['acc_gyro_ratio_y'] = data['accY'].mean() / data['gyroY'].mean()\n",
    "\n",
    "#print each feature on a new line\n",
    "for feature, value in features.items():\n",
    "    print(f\"{feature}: {value}\")"
   ]
  },
  {
   "cell_type": "code",
   "execution_count": 1,
   "id": "81d6dccd",
   "metadata": {},
   "outputs": [
    {
     "name": "stdout",
     "output_type": "stream",
     "text": [
      "y_mean: -6080.8873\n",
      "z_mean: -803.473\n",
      "pressure_mean: 2057.727\n",
      "gyroY_mean: 25.6613\n",
      "gyroZ_mean: -26.4297\n",
      "pressure_min: 2031\n",
      "y_min: -11718\n",
      "y_max: -781\n",
      "pressure_max: 2084\n",
      "pressure_median: 2058.0\n",
      "y_energy: 39890798.9203\n",
      "pressure_energy: 4234269.8382\n",
      "acc_gyro_ratio_y: -236.96722547309662\n",
      "acc_gyro_ratio_z: 30.400384052803627\n"
     ]
    }
   ],
   "source": [
    "import pandas as pd\n",
    "import numpy as np\n",
    "\n",
    "# Read the CSV file and limit to 10000 samples\n",
    "file_path = 'expanded_data/bagbord.ret.001.csv'  # Replace with your CSV file path\n",
    "data = pd.read_csv(file_path, nrows=10000)\n",
    "\n",
    "window_size = len(data)  # If you want to use the whole data as one window\n",
    "\n",
    "features = {}\n",
    "\n",
    "# mean\n",
    "features['y_mean'] = data['accY'].mean()\n",
    "features['z_mean'] = data['accZ'].mean()\n",
    "features['pressure_mean'] = data['pressure'].mean()\n",
    "features['gyroY_mean'] = data['gyroY'].mean()\n",
    "features['gyroZ_mean'] = data['gyroZ'].mean()\n",
    "\n",
    "# min\n",
    "features['pressure_min'] = data['pressure'].min()\n",
    "features['y_min'] = data['accY'].min()\n",
    "\n",
    "# max\n",
    "features['y_max'] = data['accY'].max()\n",
    "features['pressure_max'] = data['pressure'].max()\n",
    "\n",
    "# median\n",
    "features['pressure_median'] = np.median(data['pressure'])\n",
    "\n",
    "# energy\n",
    "features['y_energy'] = np.sum(data['accY']**2) / window_size\n",
    "features['pressure_energy'] = np.sum(data['pressure']**2) / window_size\n",
    "\n",
    "# Custom ratios\n",
    "features['acc_gyro_ratio_y'] = features['y_mean'] / (features['gyroY_mean'] + 1e-6)\n",
    "features['acc_gyro_ratio_z'] = features['z_mean'] / (features['gyroZ_mean'] + 1e-6)\n",
    "\n",
    "#print each feature on a new line\n",
    "for feature, value in features.items():\n",
    "    print(f\"{feature}: {value}\")"
   ]
  }
 ],
 "metadata": {
  "kernelspec": {
   "display_name": "Python 3",
   "language": "python",
   "name": "python3"
  },
  "language_info": {
   "codemirror_mode": {
    "name": "ipython",
    "version": 3
   },
   "file_extension": ".py",
   "mimetype": "text/x-python",
   "name": "python",
   "nbconvert_exporter": "python",
   "pygments_lexer": "ipython3",
   "version": "3.13.2"
  }
 },
 "nbformat": 4,
 "nbformat_minor": 5
}
